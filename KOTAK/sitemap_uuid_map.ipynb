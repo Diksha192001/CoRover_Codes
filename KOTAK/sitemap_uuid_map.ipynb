{
 "cells": [
  {
   "cell_type": "code",
   "execution_count": 1,
   "id": "c6dec235",
   "metadata": {},
   "outputs": [],
   "source": [
    "import requests\n",
    "import xml.etree.ElementTree as ET\n",
    "import uuid\n",
    "import csv"
   ]
  },
  {
   "cell_type": "code",
   "execution_count": 2,
   "id": "5d39f1f4",
   "metadata": {},
   "outputs": [
    {
     "name": "stdout",
     "output_type": "stream",
     "text": [
      "Data extracted from sitemap and saved to sitemap_data.csv file.\n"
     ]
    }
   ],
   "source": [
    "# Function to fetch XML data from the sitemap URL\n",
    "def fetch_sitemap_data(sitemap_url, site_url):\n",
    "    response = requests.get(sitemap_url)\n",
    "    if response.status_code == 200:\n",
    "        return response.content\n",
    "    else:\n",
    "        print(f\"Failed to fetch data from {sitemap_url}\")\n",
    "        return None\n",
    "\n",
    "# Provide the sitemap URL\n",
    "sitemap_url = f\"{site_url}sitemap.xml\"\n",
    "\n",
    "# Fetch the XML data from the sitemap URL\n",
    "sitemap_xml = fetch_sitemap_data(sitemap_url, site_url)\n",
    "\n",
    "if sitemap_xml:\n",
    "    root = ET.fromstring(sitemap_xml)\n",
    "\n",
    "    # Create a list to store UUID and URL pairs\n",
    "    data = []\n",
    "\n",
    "    # Extract UUID and URL from loc tags and assign a random UUID to each URL\n",
    "    for url in root.findall('{http://www.sitemaps.org/schemas/sitemap/0.9}url'):\n",
    "        loc = url.find('{http://www.sitemaps.org/schemas/sitemap/0.9}loc').text\n",
    "        uuid_val = uuid.uuid4()\n",
    "        data.append((uuid_val, loc))\n",
    "\n",
    "    # Write the data to a CSV file\n",
    "    with open('sitemap_data.csv', 'w', newline='') as csvfile:\n",
    "        writer = csv.writer(csvfile)\n",
    "        writer.writerow(['UUID', 'URL'])  # Write header row\n",
    "        writer.writerows(data)  # Write data rows\n",
    "\n",
    "    print(\"Data extracted from sitemap and saved to sitemap_data.csv file.\")\n",
    "else:\n",
    "    print(\"No sitemap data fetched, please check the URL.\")"
   ]
  },
  {
   "cell_type": "code",
   "execution_count": null,
   "id": "e7bc2fa4",
   "metadata": {},
   "outputs": [],
   "source": []
  }
 ],
 "metadata": {
  "kernelspec": {
   "display_name": "Python 3 (ipykernel)",
   "language": "python",
   "name": "python3"
  },
  "language_info": {
   "codemirror_mode": {
    "name": "ipython",
    "version": 3
   },
   "file_extension": ".py",
   "mimetype": "text/x-python",
   "name": "python",
   "nbconvert_exporter": "python",
   "pygments_lexer": "ipython3",
   "version": "3.11.5"
  }
 },
 "nbformat": 4,
 "nbformat_minor": 5
}
