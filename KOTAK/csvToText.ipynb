{
 "cells": [
  {
   "cell_type": "code",
   "execution_count": 1,
   "id": "551d3c6e",
   "metadata": {},
   "outputs": [],
   "source": [
    "import csv"
   ]
  },
  {
   "cell_type": "code",
   "execution_count": 2,
   "id": "c0ad378c",
   "metadata": {},
   "outputs": [
    {
     "name": "stdout",
     "output_type": "stream",
     "text": [
      "Conversion completed. Output file: RSA_data.txt\n"
     ]
    }
   ],
   "source": [
    "# Define the input CSV file and output TXT file names\n",
    "input_csv_file = 'RSA_data_by_bial.csv'\n",
    "output_txt_file = 'RSA_data.txt'\n",
    "\n",
    "# Read the CSV file and write its contents to a TXT file\n",
    "with open(input_csv_file, 'r') as csv_file:\n",
    "    csv_reader = csv.reader(csv_file)\n",
    "    \n",
    "    # Open the TXT file for writing\n",
    "    with open(output_txt_file, 'w') as txt_file:\n",
    "        for row in csv_reader:\n",
    "            # Join the elements of each row with commas and write to the TXT file\n",
    "            txt_file.write(','.join(row) + '\\n')\n",
    "\n",
    "print(f\"Conversion completed. Output file: {output_txt_file}\")"
   ]
  },
  {
   "cell_type": "code",
   "execution_count": null,
   "id": "f82c3b33",
   "metadata": {},
   "outputs": [],
   "source": []
  }
 ],
 "metadata": {
  "kernelspec": {
   "display_name": "Python 3 (ipykernel)",
   "language": "python",
   "name": "python3"
  },
  "language_info": {
   "codemirror_mode": {
    "name": "ipython",
    "version": 3
   },
   "file_extension": ".py",
   "mimetype": "text/x-python",
   "name": "python",
   "nbconvert_exporter": "python",
   "pygments_lexer": "ipython3",
   "version": "3.11.5"
  }
 },
 "nbformat": 4,
 "nbformat_minor": 5
}
