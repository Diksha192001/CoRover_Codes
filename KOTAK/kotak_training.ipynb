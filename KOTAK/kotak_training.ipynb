{
 "cells": [
  {
   "cell_type": "code",
   "execution_count": 5,
   "id": "083140f5",
   "metadata": {},
   "outputs": [
    {
     "name": "stdout",
     "output_type": "stream",
     "text": [
      "Requirement already satisfied: langchain in c:\\users\\diksha\\anaconda3\\lib\\site-packages (0.1.4)\n",
      "Requirement already satisfied: PyYAML>=5.3 in c:\\users\\diksha\\anaconda3\\lib\\site-packages (from langchain) (6.0)\n",
      "Requirement already satisfied: SQLAlchemy<3,>=1.4 in c:\\users\\diksha\\anaconda3\\lib\\site-packages (from langchain) (1.4.39)\n",
      "Requirement already satisfied: aiohttp<4.0.0,>=3.8.3 in c:\\users\\diksha\\anaconda3\\lib\\site-packages (from langchain) (3.8.5)\n",
      "Requirement already satisfied: dataclasses-json<0.7,>=0.5.7 in c:\\users\\diksha\\anaconda3\\lib\\site-packages (from langchain) (0.6.3)\n",
      "Requirement already satisfied: jsonpatch<2.0,>=1.33 in c:\\users\\diksha\\anaconda3\\lib\\site-packages (from langchain) (1.33)\n",
      "Requirement already satisfied: langchain-community<0.1,>=0.0.14 in c:\\users\\diksha\\anaconda3\\lib\\site-packages (from langchain) (0.0.16)\n",
      "Requirement already satisfied: langchain-core<0.2,>=0.1.16 in c:\\users\\diksha\\anaconda3\\lib\\site-packages (from langchain) (0.1.17)\n",
      "Requirement already satisfied: langsmith<0.1,>=0.0.83 in c:\\users\\diksha\\anaconda3\\lib\\site-packages (from langchain) (0.0.85)\n",
      "Requirement already satisfied: numpy<2,>=1 in c:\\users\\diksha\\anaconda3\\lib\\site-packages (from langchain) (1.24.3)\n",
      "Requirement already satisfied: pydantic<3,>=1 in c:\\users\\diksha\\anaconda3\\lib\\site-packages (from langchain) (1.10.8)\n",
      "Requirement already satisfied: requests<3,>=2 in c:\\users\\diksha\\anaconda3\\lib\\site-packages (from langchain) (2.31.0)\n",
      "Requirement already satisfied: tenacity<9.0.0,>=8.1.0 in c:\\users\\diksha\\anaconda3\\lib\\site-packages (from langchain) (8.2.2)\n",
      "Requirement already satisfied: attrs>=17.3.0 in c:\\users\\diksha\\anaconda3\\lib\\site-packages (from aiohttp<4.0.0,>=3.8.3->langchain) (22.1.0)\n",
      "Requirement already satisfied: charset-normalizer<4.0,>=2.0 in c:\\users\\diksha\\anaconda3\\lib\\site-packages (from aiohttp<4.0.0,>=3.8.3->langchain) (3.3.2)\n",
      "Requirement already satisfied: multidict<7.0,>=4.5 in c:\\users\\diksha\\anaconda3\\lib\\site-packages (from aiohttp<4.0.0,>=3.8.3->langchain) (6.0.2)\n",
      "Requirement already satisfied: async-timeout<5.0,>=4.0.0a3 in c:\\users\\diksha\\anaconda3\\lib\\site-packages (from aiohttp<4.0.0,>=3.8.3->langchain) (4.0.2)\n",
      "Requirement already satisfied: yarl<2.0,>=1.0 in c:\\users\\diksha\\anaconda3\\lib\\site-packages (from aiohttp<4.0.0,>=3.8.3->langchain) (1.8.1)\n",
      "Requirement already satisfied: frozenlist>=1.1.1 in c:\\users\\diksha\\anaconda3\\lib\\site-packages (from aiohttp<4.0.0,>=3.8.3->langchain) (1.3.3)\n",
      "Requirement already satisfied: aiosignal>=1.1.2 in c:\\users\\diksha\\anaconda3\\lib\\site-packages (from aiohttp<4.0.0,>=3.8.3->langchain) (1.2.0)\n",
      "Requirement already satisfied: marshmallow<4.0.0,>=3.18.0 in c:\\users\\diksha\\anaconda3\\lib\\site-packages (from dataclasses-json<0.7,>=0.5.7->langchain) (3.20.2)\n",
      "Requirement already satisfied: typing-inspect<1,>=0.4.0 in c:\\users\\diksha\\anaconda3\\lib\\site-packages (from dataclasses-json<0.7,>=0.5.7->langchain) (0.9.0)\n",
      "Requirement already satisfied: jsonpointer>=1.9 in c:\\users\\diksha\\anaconda3\\lib\\site-packages (from jsonpatch<2.0,>=1.33->langchain) (2.1)\n",
      "Requirement already satisfied: anyio<5,>=3 in c:\\users\\diksha\\anaconda3\\lib\\site-packages (from langchain-core<0.2,>=0.1.16->langchain) (3.5.0)\n",
      "Requirement already satisfied: packaging<24.0,>=23.2 in c:\\users\\diksha\\anaconda3\\lib\\site-packages (from langchain-core<0.2,>=0.1.16->langchain) (23.2)\n",
      "Requirement already satisfied: typing-extensions>=4.2.0 in c:\\users\\diksha\\anaconda3\\lib\\site-packages (from pydantic<3,>=1->langchain) (4.9.0)\n",
      "Requirement already satisfied: idna<4,>=2.5 in c:\\users\\diksha\\anaconda3\\lib\\site-packages (from requests<3,>=2->langchain) (3.4)\n",
      "Requirement already satisfied: urllib3<3,>=1.21.1 in c:\\users\\diksha\\anaconda3\\lib\\site-packages (from requests<3,>=2->langchain) (2.2.0)\n",
      "Requirement already satisfied: certifi>=2017.4.17 in c:\\users\\diksha\\anaconda3\\lib\\site-packages (from requests<3,>=2->langchain) (2023.11.17)\n",
      "Requirement already satisfied: greenlet!=0.4.17 in c:\\users\\diksha\\anaconda3\\lib\\site-packages (from SQLAlchemy<3,>=1.4->langchain) (2.0.1)\n",
      "Requirement already satisfied: sniffio>=1.1 in c:\\users\\diksha\\anaconda3\\lib\\site-packages (from anyio<5,>=3->langchain-core<0.2,>=0.1.16->langchain) (1.3.0)\n",
      "Requirement already satisfied: mypy-extensions>=0.3.0 in c:\\users\\diksha\\anaconda3\\lib\\site-packages (from typing-inspect<1,>=0.4.0->dataclasses-json<0.7,>=0.5.7->langchain) (1.0.0)\n"
     ]
    }
   ],
   "source": [
    "!pip install langchain"
   ]
  },
  {
   "cell_type": "code",
   "execution_count": 6,
   "id": "f138508f",
   "metadata": {},
   "outputs": [
    {
     "name": "stdout",
     "output_type": "stream",
     "text": [
      "Requirement already satisfied: selenium in c:\\users\\diksha\\anaconda3\\lib\\site-packages (4.17.2)\n",
      "Requirement already satisfied: urllib3[socks]<3,>=1.26 in c:\\users\\diksha\\anaconda3\\lib\\site-packages (from selenium) (2.2.0)\n",
      "Requirement already satisfied: trio~=0.17 in c:\\users\\diksha\\anaconda3\\lib\\site-packages (from selenium) (0.24.0)\n",
      "Requirement already satisfied: trio-websocket~=0.9 in c:\\users\\diksha\\anaconda3\\lib\\site-packages (from selenium) (0.11.1)\n",
      "Requirement already satisfied: certifi>=2021.10.8 in c:\\users\\diksha\\anaconda3\\lib\\site-packages (from selenium) (2023.11.17)\n",
      "Requirement already satisfied: typing_extensions>=4.9.0 in c:\\users\\diksha\\anaconda3\\lib\\site-packages (from selenium) (4.9.0)\n",
      "Requirement already satisfied: attrs>=20.1.0 in c:\\users\\diksha\\anaconda3\\lib\\site-packages (from trio~=0.17->selenium) (22.1.0)\n",
      "Requirement already satisfied: sortedcontainers in c:\\users\\diksha\\anaconda3\\lib\\site-packages (from trio~=0.17->selenium) (2.4.0)\n",
      "Requirement already satisfied: idna in c:\\users\\diksha\\anaconda3\\lib\\site-packages (from trio~=0.17->selenium) (3.4)\n",
      "Requirement already satisfied: outcome in c:\\users\\diksha\\anaconda3\\lib\\site-packages (from trio~=0.17->selenium) (1.3.0.post0)\n",
      "Requirement already satisfied: sniffio>=1.3.0 in c:\\users\\diksha\\anaconda3\\lib\\site-packages (from trio~=0.17->selenium) (1.3.0)\n",
      "Requirement already satisfied: cffi>=1.14 in c:\\users\\diksha\\anaconda3\\lib\\site-packages (from trio~=0.17->selenium) (1.15.1)\n",
      "Requirement already satisfied: wsproto>=0.14 in c:\\users\\diksha\\anaconda3\\lib\\site-packages (from trio-websocket~=0.9->selenium) (1.2.0)\n",
      "Requirement already satisfied: pysocks!=1.5.7,<2.0,>=1.5.6 in c:\\users\\diksha\\anaconda3\\lib\\site-packages (from urllib3[socks]<3,>=1.26->selenium) (1.7.1)\n",
      "Requirement already satisfied: pycparser in c:\\users\\diksha\\anaconda3\\lib\\site-packages (from cffi>=1.14->trio~=0.17->selenium) (2.21)\n",
      "Requirement already satisfied: h11<1,>=0.9.0 in c:\\users\\diksha\\anaconda3\\lib\\site-packages (from wsproto>=0.14->trio-websocket~=0.9->selenium) (0.14.0)\n"
     ]
    }
   ],
   "source": [
    "!pip install selenium"
   ]
  },
  {
   "cell_type": "code",
   "execution_count": 8,
   "id": "d87c7542",
   "metadata": {},
   "outputs": [],
   "source": [
    "import os\n",
    "import shutil\n",
    "import langchain\n",
    "from pathlib import Path\n",
    "from langchain.text_splitter import CharacterTextSplitter\n",
    "from langchain.vectorstores import FAISS\n",
    "from langchain.embeddings.huggingface import HuggingFaceEmbeddings\n",
    "from langchain.document_loaders import DirectoryLoader\n",
    "from langchain.embeddings import VertexAIEmbeddings"
   ]
  },
  {
   "cell_type": "code",
   "execution_count": 9,
   "id": "e72a017b",
   "metadata": {},
   "outputs": [],
   "source": [
    "import nltk"
   ]
  },
  {
   "cell_type": "code",
   "execution_count": 10,
   "id": "0e113f60",
   "metadata": {},
   "outputs": [
    {
     "name": "stdout",
     "output_type": "stream",
     "text": [
      "Requirement already satisfied: unstructured in c:\\users\\diksha\\anaconda3\\lib\\site-packages (0.12.3)\n",
      "Requirement already satisfied: chardet in c:\\users\\diksha\\anaconda3\\lib\\site-packages (from unstructured) (4.0.0)\n",
      "Requirement already satisfied: filetype in c:\\users\\diksha\\anaconda3\\lib\\site-packages (from unstructured) (1.2.0)\n",
      "Requirement already satisfied: python-magic in c:\\users\\diksha\\anaconda3\\lib\\site-packages (from unstructured) (0.4.27)\n",
      "Requirement already satisfied: lxml in c:\\users\\diksha\\anaconda3\\lib\\site-packages (from unstructured) (4.9.3)\n",
      "Requirement already satisfied: nltk in c:\\users\\diksha\\anaconda3\\lib\\site-packages (from unstructured) (3.8.1)\n",
      "Requirement already satisfied: tabulate in c:\\users\\diksha\\anaconda3\\lib\\site-packages (from unstructured) (0.8.10)\n",
      "Requirement already satisfied: requests in c:\\users\\diksha\\anaconda3\\lib\\site-packages (from unstructured) (2.31.0)\n",
      "Requirement already satisfied: beautifulsoup4 in c:\\users\\diksha\\anaconda3\\lib\\site-packages (from unstructured) (4.12.2)\n",
      "Requirement already satisfied: emoji in c:\\users\\diksha\\anaconda3\\lib\\site-packages (from unstructured) (2.10.0)\n",
      "Requirement already satisfied: dataclasses-json in c:\\users\\diksha\\anaconda3\\lib\\site-packages (from unstructured) (0.6.3)\n",
      "Requirement already satisfied: python-iso639 in c:\\users\\diksha\\anaconda3\\lib\\site-packages (from unstructured) (2024.1.2)\n",
      "Requirement already satisfied: langdetect in c:\\users\\diksha\\anaconda3\\lib\\site-packages (from unstructured) (1.0.9)\n",
      "Requirement already satisfied: numpy in c:\\users\\diksha\\anaconda3\\lib\\site-packages (from unstructured) (1.24.3)\n",
      "Requirement already satisfied: rapidfuzz in c:\\users\\diksha\\anaconda3\\lib\\site-packages (from unstructured) (3.6.1)\n",
      "Requirement already satisfied: backoff in c:\\users\\diksha\\anaconda3\\lib\\site-packages (from unstructured) (2.2.1)\n",
      "Requirement already satisfied: typing-extensions in c:\\users\\diksha\\anaconda3\\lib\\site-packages (from unstructured) (4.9.0)\n",
      "Requirement already satisfied: unstructured-client>=0.15.1 in c:\\users\\diksha\\anaconda3\\lib\\site-packages (from unstructured) (0.16.0)\n",
      "Requirement already satisfied: wrapt in c:\\users\\diksha\\anaconda3\\lib\\site-packages (from unstructured) (1.14.1)\n",
      "Requirement already satisfied: certifi>=2023.7.22 in c:\\users\\diksha\\anaconda3\\lib\\site-packages (from unstructured-client>=0.15.1->unstructured) (2023.11.17)\n",
      "Requirement already satisfied: charset-normalizer>=3.2.0 in c:\\users\\diksha\\anaconda3\\lib\\site-packages (from unstructured-client>=0.15.1->unstructured) (3.3.2)\n",
      "Requirement already satisfied: idna>=3.4 in c:\\users\\diksha\\anaconda3\\lib\\site-packages (from unstructured-client>=0.15.1->unstructured) (3.4)\n",
      "Requirement already satisfied: jsonpath-python>=1.0.6 in c:\\users\\diksha\\anaconda3\\lib\\site-packages (from unstructured-client>=0.15.1->unstructured) (1.0.6)\n",
      "Requirement already satisfied: marshmallow>=3.19.0 in c:\\users\\diksha\\anaconda3\\lib\\site-packages (from unstructured-client>=0.15.1->unstructured) (3.20.2)\n",
      "Requirement already satisfied: mypy-extensions>=1.0.0 in c:\\users\\diksha\\anaconda3\\lib\\site-packages (from unstructured-client>=0.15.1->unstructured) (1.0.0)\n",
      "Requirement already satisfied: packaging>=23.1 in c:\\users\\diksha\\anaconda3\\lib\\site-packages (from unstructured-client>=0.15.1->unstructured) (23.2)\n",
      "Requirement already satisfied: python-dateutil>=2.8.2 in c:\\users\\diksha\\anaconda3\\lib\\site-packages (from unstructured-client>=0.15.1->unstructured) (2.8.2)\n",
      "Requirement already satisfied: six>=1.16.0 in c:\\users\\diksha\\anaconda3\\lib\\site-packages (from unstructured-client>=0.15.1->unstructured) (1.16.0)\n",
      "Requirement already satisfied: typing-inspect>=0.9.0 in c:\\users\\diksha\\anaconda3\\lib\\site-packages (from unstructured-client>=0.15.1->unstructured) (0.9.0)\n",
      "Requirement already satisfied: urllib3>=1.26.18 in c:\\users\\diksha\\anaconda3\\lib\\site-packages (from unstructured-client>=0.15.1->unstructured) (2.2.0)\n",
      "Requirement already satisfied: soupsieve>1.2 in c:\\users\\diksha\\anaconda3\\lib\\site-packages (from beautifulsoup4->unstructured) (2.4)\n",
      "Requirement already satisfied: click in c:\\users\\diksha\\anaconda3\\lib\\site-packages (from nltk->unstructured) (8.0.4)\n",
      "Requirement already satisfied: joblib in c:\\users\\diksha\\anaconda3\\lib\\site-packages (from nltk->unstructured) (1.2.0)\n",
      "Requirement already satisfied: regex>=2021.8.3 in c:\\users\\diksha\\anaconda3\\lib\\site-packages (from nltk->unstructured) (2022.7.9)\n",
      "Requirement already satisfied: tqdm in c:\\users\\diksha\\anaconda3\\lib\\site-packages (from nltk->unstructured) (4.65.0)\n",
      "Requirement already satisfied: colorama in c:\\users\\diksha\\anaconda3\\lib\\site-packages (from click->nltk->unstructured) (0.4.6)\n"
     ]
    }
   ],
   "source": [
    "!pip install unstructured"
   ]
  },
  {
   "cell_type": "code",
   "execution_count": 11,
   "id": "3fa8ac9d",
   "metadata": {},
   "outputs": [
    {
     "name": "stderr",
     "output_type": "stream",
     "text": [
      "[nltk_data] Downloading package punkt to\n",
      "[nltk_data]     C:\\Users\\DIKSHA\\AppData\\Roaming\\nltk_data...\n",
      "[nltk_data]   Package punkt is already up-to-date!\n"
     ]
    },
    {
     "data": {
      "text/plain": [
       "True"
      ]
     },
     "execution_count": 11,
     "metadata": {},
     "output_type": "execute_result"
    }
   ],
   "source": [
    "nltk.download('punkt')"
   ]
  },
  {
   "cell_type": "code",
   "execution_count": 12,
   "id": "782c09b2",
   "metadata": {},
   "outputs": [
    {
     "name": "stdout",
     "output_type": "stream",
     "text": [
      "Requirement already satisfied: sentence-transformers in c:\\users\\diksha\\anaconda3\\lib\\site-packages (2.3.1)\n",
      "Requirement already satisfied: transformers<5.0.0,>=4.32.0 in c:\\users\\diksha\\anaconda3\\lib\\site-packages (from sentence-transformers) (4.32.1)\n",
      "Requirement already satisfied: tqdm in c:\\users\\diksha\\anaconda3\\lib\\site-packages (from sentence-transformers) (4.65.0)\n",
      "Requirement already satisfied: torch>=1.11.0 in c:\\users\\diksha\\anaconda3\\lib\\site-packages (from sentence-transformers) (2.2.0)\n",
      "Requirement already satisfied: numpy in c:\\users\\diksha\\anaconda3\\lib\\site-packages (from sentence-transformers) (1.24.3)\n",
      "Requirement already satisfied: scikit-learn in c:\\users\\diksha\\anaconda3\\lib\\site-packages (from sentence-transformers) (1.3.0)\n",
      "Requirement already satisfied: scipy in c:\\users\\diksha\\anaconda3\\lib\\site-packages (from sentence-transformers) (1.11.1)\n",
      "Requirement already satisfied: nltk in c:\\users\\diksha\\anaconda3\\lib\\site-packages (from sentence-transformers) (3.8.1)\n",
      "Requirement already satisfied: sentencepiece in c:\\users\\diksha\\anaconda3\\lib\\site-packages (from sentence-transformers) (0.1.99)\n",
      "Requirement already satisfied: huggingface-hub>=0.15.1 in c:\\users\\diksha\\anaconda3\\lib\\site-packages (from sentence-transformers) (0.15.1)\n",
      "Requirement already satisfied: Pillow in c:\\users\\diksha\\anaconda3\\lib\\site-packages (from sentence-transformers) (9.4.0)\n",
      "Requirement already satisfied: filelock in c:\\users\\diksha\\anaconda3\\lib\\site-packages (from huggingface-hub>=0.15.1->sentence-transformers) (3.9.0)\n",
      "Requirement already satisfied: fsspec in c:\\users\\diksha\\anaconda3\\lib\\site-packages (from huggingface-hub>=0.15.1->sentence-transformers) (2023.4.0)\n",
      "Requirement already satisfied: requests in c:\\users\\diksha\\anaconda3\\lib\\site-packages (from huggingface-hub>=0.15.1->sentence-transformers) (2.31.0)\n",
      "Requirement already satisfied: pyyaml>=5.1 in c:\\users\\diksha\\anaconda3\\lib\\site-packages (from huggingface-hub>=0.15.1->sentence-transformers) (6.0)\n",
      "Requirement already satisfied: typing-extensions>=3.7.4.3 in c:\\users\\diksha\\anaconda3\\lib\\site-packages (from huggingface-hub>=0.15.1->sentence-transformers) (4.9.0)\n",
      "Requirement already satisfied: packaging>=20.9 in c:\\users\\diksha\\anaconda3\\lib\\site-packages (from huggingface-hub>=0.15.1->sentence-transformers) (23.2)\n",
      "Requirement already satisfied: sympy in c:\\users\\diksha\\anaconda3\\lib\\site-packages (from torch>=1.11.0->sentence-transformers) (1.11.1)\n",
      "Requirement already satisfied: networkx in c:\\users\\diksha\\anaconda3\\lib\\site-packages (from torch>=1.11.0->sentence-transformers) (3.1)\n",
      "Requirement already satisfied: jinja2 in c:\\users\\diksha\\anaconda3\\lib\\site-packages (from torch>=1.11.0->sentence-transformers) (3.1.2)\n",
      "Requirement already satisfied: colorama in c:\\users\\diksha\\anaconda3\\lib\\site-packages (from tqdm->sentence-transformers) (0.4.6)\n",
      "Requirement already satisfied: regex!=2019.12.17 in c:\\users\\diksha\\anaconda3\\lib\\site-packages (from transformers<5.0.0,>=4.32.0->sentence-transformers) (2022.7.9)\n",
      "Requirement already satisfied: tokenizers!=0.11.3,<0.14,>=0.11.1 in c:\\users\\diksha\\anaconda3\\lib\\site-packages (from transformers<5.0.0,>=4.32.0->sentence-transformers) (0.13.2)\n",
      "Requirement already satisfied: safetensors>=0.3.1 in c:\\users\\diksha\\anaconda3\\lib\\site-packages (from transformers<5.0.0,>=4.32.0->sentence-transformers) (0.3.2)\n",
      "Requirement already satisfied: click in c:\\users\\diksha\\anaconda3\\lib\\site-packages (from nltk->sentence-transformers) (8.0.4)\n",
      "Requirement already satisfied: joblib in c:\\users\\diksha\\anaconda3\\lib\\site-packages (from nltk->sentence-transformers) (1.2.0)\n",
      "Requirement already satisfied: threadpoolctl>=2.0.0 in c:\\users\\diksha\\anaconda3\\lib\\site-packages (from scikit-learn->sentence-transformers) (2.2.0)\n",
      "Requirement already satisfied: MarkupSafe>=2.0 in c:\\users\\diksha\\anaconda3\\lib\\site-packages (from jinja2->torch>=1.11.0->sentence-transformers) (2.1.1)\n",
      "Requirement already satisfied: charset-normalizer<4,>=2 in c:\\users\\diksha\\anaconda3\\lib\\site-packages (from requests->huggingface-hub>=0.15.1->sentence-transformers) (3.3.2)\n",
      "Requirement already satisfied: idna<4,>=2.5 in c:\\users\\diksha\\anaconda3\\lib\\site-packages (from requests->huggingface-hub>=0.15.1->sentence-transformers) (3.4)\n",
      "Requirement already satisfied: urllib3<3,>=1.21.1 in c:\\users\\diksha\\anaconda3\\lib\\site-packages (from requests->huggingface-hub>=0.15.1->sentence-transformers) (2.2.0)\n",
      "Requirement already satisfied: certifi>=2017.4.17 in c:\\users\\diksha\\anaconda3\\lib\\site-packages (from requests->huggingface-hub>=0.15.1->sentence-transformers) (2023.11.17)\n",
      "Requirement already satisfied: mpmath>=0.19 in c:\\users\\diksha\\anaconda3\\lib\\site-packages (from sympy->torch>=1.11.0->sentence-transformers) (1.3.0)\n"
     ]
    }
   ],
   "source": [
    "!pip install sentence-transformers"
   ]
  },
  {
   "cell_type": "code",
   "execution_count": 13,
   "id": "8b8d3f46",
   "metadata": {},
   "outputs": [
    {
     "name": "stdout",
     "output_type": "stream",
     "text": [
      "Requirement already satisfied: faiss-cpu in c:\\users\\diksha\\anaconda3\\lib\\site-packages (1.7.4)\n"
     ]
    }
   ],
   "source": [
    "!pip install faiss-cpu"
   ]
  },
  {
   "cell_type": "code",
   "execution_count": 17,
   "id": "f733c754",
   "metadata": {},
   "outputs": [
    {
     "name": "stderr",
     "output_type": "stream",
     "text": [
      "Created a chunk of size 347, which is longer than the specified 2\n",
      "Created a chunk of size 505, which is longer than the specified 2\n",
      "Created a chunk of size 468, which is longer than the specified 2\n",
      "Created a chunk of size 388, which is longer than the specified 2\n",
      "Created a chunk of size 458, which is longer than the specified 2\n"
     ]
    },
    {
     "name": "stdout",
     "output_type": "stream",
     "text": [
      "Training Done\n"
     ]
    }
   ],
   "source": [
    "datapath = \"./source_kotak\"\n",
    "\n",
    "loader = DirectoryLoader(datapath, glob=f\"**/*.txt\")\n",
    "docs = loader.load()\n",
    "\n",
    "# Initialize text_splitter and embeddings\n",
    "text_splitter = CharacterTextSplitter(chunk_size=2, chunk_overlap=0)\n",
    "\n",
    "# Embedding Model\n",
    "embeddings = HuggingFaceEmbeddings()\n",
    "\n",
    "db = FAISS.from_documents(text_splitter.split_documents(docs), embeddings)\n",
    "\n",
    "db.save_local(\"Faiss_index\")\n",
    "\n",
    "print(\"Training Done\")"
   ]
  },
  {
   "cell_type": "code",
   "execution_count": 18,
   "id": "3f546c65",
   "metadata": {},
   "outputs": [],
   "source": [
    "# Embedding Model\n",
    "embeddings = HuggingFaceEmbeddings()\n",
    "\n",
    "docsearch = FAISS.load_local(\"Faiss_index\", embeddings)"
   ]
  },
  {
   "cell_type": "code",
   "execution_count": 19,
   "id": "0fe2c80e",
   "metadata": {},
   "outputs": [],
   "source": [
    "query = \"outlets serving vegetarian food?\"\n",
    "docs = docsearch.similarity_search(query, k=1)"
   ]
  },
  {
   "cell_type": "code",
   "execution_count": 20,
   "id": "ca7b5fd2",
   "metadata": {},
   "outputs": [
    {
     "data": {
      "text/plain": [
       "[Document(page_content='Do you have outlets serving only vegetarian food?,Once past security check, Tiffin Express in the Domestic boarding gates area (near Gate #2 and Gate #23) offers vegetarian food. Besides, there are several outlets on the Kerb and at The Quad by BLR serving only vegetarian food, such as Aubree, Bharatiya Jalpan, Nandi Upachar, Ooru Canteen, among others. Most restaurants have an array of vegetarian food on offer.,https://www.bengaluruairport.com/travellers/at-the-airport/experience/culinary-experience', metadata={'source': 'source_rsa\\\\RSA_data.txt'})]"
      ]
     },
     "execution_count": 20,
     "metadata": {},
     "output_type": "execute_result"
    }
   ],
   "source": [
    "docs"
   ]
  },
  {
   "cell_type": "code",
   "execution_count": 14,
   "id": "ffe257ef",
   "metadata": {},
   "outputs": [],
   "source": [
    "from langchain_community.document_loaders import UnstructuredURLLoader"
   ]
  },
  {
   "cell_type": "code",
   "execution_count": 15,
   "id": "541f32b0",
   "metadata": {},
   "outputs": [],
   "source": [
    "urls = [\n",
    "    \"https://www.understandingwar.org/backgrounder/russian-offensive-campaign-assessment-february-8-2023\",\n",
    "    \"https://www.understandingwar.org/backgrounder/russian-offensive-campaign-assessment-february-9-2023\",\n",
    "]"
   ]
  },
  {
   "cell_type": "code",
   "execution_count": 27,
   "id": "dffe1311",
   "metadata": {},
   "outputs": [],
   "source": [
    "loader = UnstructuredURLLoader(urls=urls)"
   ]
  },
  {
   "cell_type": "code",
   "execution_count": 22,
   "id": "b300211b",
   "metadata": {},
   "outputs": [
    {
     "name": "stderr",
     "output_type": "stream",
     "text": [
      "WARNING: Skipping libmagic as it is not installed.\n"
     ]
    }
   ],
   "source": [
    "!pip uninstall libmagic"
   ]
  },
  {
   "cell_type": "code",
   "execution_count": 29,
   "id": "ee33b61f",
   "metadata": {},
   "outputs": [
    {
     "name": "stdout",
     "output_type": "stream",
     "text": [
      "Collecting python-libmagic\n",
      "  Using cached python_libmagic-0.4.0-py3-none-any.whl\n",
      "Collecting cffi==1.7.0 (from python-libmagic)\n",
      "  Using cached cffi-1.7.0.tar.gz (400 kB)\n",
      "  Preparing metadata (setup.py): started\n",
      "  Preparing metadata (setup.py): finished with status 'done'\n",
      "Requirement already satisfied: pycparser in c:\\users\\diksha\\anaconda3\\lib\\site-packages (from cffi==1.7.0->python-libmagic) (2.21)\n",
      "Building wheels for collected packages: cffi\n",
      "  Building wheel for cffi (setup.py): started\n",
      "  Building wheel for cffi (setup.py): finished with status 'error'\n",
      "  Running setup.py clean for cffi\n",
      "Failed to build cffi\n"
     ]
    },
    {
     "name": "stderr",
     "output_type": "stream",
     "text": [
      "  error: subprocess-exited-with-error\n",
      "  \n",
      "  python setup.py bdist_wheel did not run successfully.\n",
      "  exit code: 1\n",
      "  \n",
      "  [216 lines of output]\n",
      "  running bdist_wheel\n",
      "  running build\n",
      "  running build_py\n",
      "  creating build\n",
      "  creating build\\lib.win-amd64-cpython-311\n",
      "  creating build\\lib.win-amd64-cpython-311\\cffi\n",
      "  copying cffi\\api.py -> build\\lib.win-amd64-cpython-311\\cffi\n",
      "  copying cffi\\backend_ctypes.py -> build\\lib.win-amd64-cpython-311\\cffi\n",
      "  copying cffi\\cffi_opcode.py -> build\\lib.win-amd64-cpython-311\\cffi\n",
      "  copying cffi\\commontypes.py -> build\\lib.win-amd64-cpython-311\\cffi\n",
      "  copying cffi\\cparser.py -> build\\lib.win-amd64-cpython-311\\cffi\n",
      "  copying cffi\\ffiplatform.py -> build\\lib.win-amd64-cpython-311\\cffi\n",
      "  copying cffi\\lock.py -> build\\lib.win-amd64-cpython-311\\cffi\n",
      "  copying cffi\\model.py -> build\\lib.win-amd64-cpython-311\\cffi\n",
      "  copying cffi\\recompiler.py -> build\\lib.win-amd64-cpython-311\\cffi\n",
      "  copying cffi\\setuptools_ext.py -> build\\lib.win-amd64-cpython-311\\cffi\n",
      "  copying cffi\\vengine_cpy.py -> build\\lib.win-amd64-cpython-311\\cffi\n",
      "  copying cffi\\vengine_gen.py -> build\\lib.win-amd64-cpython-311\\cffi\n",
      "  copying cffi\\verifier.py -> build\\lib.win-amd64-cpython-311\\cffi\n",
      "  copying cffi\\__init__.py -> build\\lib.win-amd64-cpython-311\\cffi\n",
      "  copying cffi\\_cffi_include.h -> build\\lib.win-amd64-cpython-311\\cffi\n",
      "  copying cffi\\parse_c_type.h -> build\\lib.win-amd64-cpython-311\\cffi\n",
      "  copying cffi\\_embedding.h -> build\\lib.win-amd64-cpython-311\\cffi\n",
      "  running build_ext\n",
      "  building '_cffi_backend' extension\n",
      "  creating build\\temp.win-amd64-cpython-311\n",
      "  creating build\\temp.win-amd64-cpython-311\\Release\n",
      "  creating build\\temp.win-amd64-cpython-311\\Release\\c\n",
      "  creating build\\temp.win-amd64-cpython-311\\Release\\c\\libffi_msvc\n",
      "  \"C:\\Program Files (x86)\\Microsoft Visual Studio\\2019\\BuildTools\\VC\\Tools\\MSVC\\14.29.30133\\bin\\HostX86\\x64\\cl.exe\" /c /nologo /O2 /W3 /GL /DNDEBUG /MD -Ic/libffi_msvc -IC:\\Users\\DIKSHA\\anaconda3\\include -IC:\\Users\\DIKSHA\\anaconda3\\Include \"-IC:\\Program Files (x86)\\Microsoft Visual Studio\\2019\\BuildTools\\VC\\Tools\\MSVC\\14.29.30133\\include\" \"-IC:\\Program Files (x86)\\Windows Kits\\10\\include\\10.0.19041.0\\ucrt\" \"-IC:\\Program Files (x86)\\Windows Kits\\10\\include\\10.0.19041.0\\shared\" \"-IC:\\Program Files (x86)\\Windows Kits\\10\\include\\10.0.19041.0\\um\" \"-IC:\\Program Files (x86)\\Windows Kits\\10\\include\\10.0.19041.0\\winrt\" \"-IC:\\Program Files (x86)\\Windows Kits\\10\\include\\10.0.19041.0\\cppwinrt\" /Tcc/_cffi_backend.c /Fobuild\\temp.win-amd64-cpython-311\\Release\\c/_cffi_backend.obj\n",
      "  _cffi_backend.c\n",
      "  C:\\Users\\DIKSHA\\AppData\\Local\\Temp\\pip-install-3rqdyi3h\\cffi_58ed7bb70ef345418f1a34209914097d\\c\\minibuffer.h(66): warning C4996: 'PyObject_AsReadBuffer': deprecated in 3.0\n",
      "  C:\\Users\\DIKSHA\\AppData\\Local\\Temp\\pip-install-3rqdyi3h\\cffi_58ed7bb70ef345418f1a34209914097d\\c\\file_emulator.h(54): warning C4090: '=': different 'const' qualifiers\n",
      "  C:\\Users\\DIKSHA\\AppData\\Local\\Temp\\pip-install-3rqdyi3h\\cffi_58ed7bb70ef345418f1a34209914097d\\c\\wchar_helper.h(83): warning C4996: 'PyUnicode_AS_UNICODE': deprecated in 3.3\n",
      "  C:\\Users\\DIKSHA\\AppData\\Local\\Temp\\pip-install-3rqdyi3h\\cffi_58ed7bb70ef345418f1a34209914097d\\c\\wchar_helper.h(84): warning C4996: 'PyUnicode_GET_SIZE': deprecated in 3.3\n",
      "  C:\\Users\\DIKSHA\\AppData\\Local\\Temp\\pip-install-3rqdyi3h\\cffi_58ed7bb70ef345418f1a34209914097d\\c\\wchar_helper.h(99): warning C4996: 'PyUnicode_GET_SIZE': deprecated in 3.3\n",
      "  C:\\Users\\DIKSHA\\AppData\\Local\\Temp\\pip-install-3rqdyi3h\\cffi_58ed7bb70ef345418f1a34209914097d\\c\\wchar_helper.h(118): warning C4996: 'PyUnicode_AS_UNICODE': deprecated in 3.3\n",
      "  c/_cffi_backend.c(315): warning C4267: 'initializing': conversion from 'size_t' to 'int', possible loss of data\n",
      "  c/_cffi_backend.c(316): warning C4267: 'initializing': conversion from 'size_t' to 'int', possible loss of data\n",
      "  c/_cffi_backend.c(352): error C2106: '=': left operand must be l-value\n",
      "  c/_cffi_backend.c(355): error C2106: '=': left operand must be l-value\n",
      "  c/_cffi_backend.c(938): warning C4244: 'function': conversion from 'Py_ssize_t' to 'int', possible loss of data\n",
      "  c/_cffi_backend.c(947): warning C4244: 'function': conversion from 'Py_ssize_t' to 'int', possible loss of data\n",
      "  c/_cffi_backend.c(957): warning C4244: 'function': conversion from 'Py_ssize_t' to 'int', possible loss of data\n",
      "  c/_cffi_backend.c(993): warning C4244: 'function': conversion from 'Py_ssize_t' to 'int', possible loss of data\n",
      "  c/_cffi_backend.c(1007): warning C4244: 'function': conversion from 'Py_ssize_t' to 'int', possible loss of data\n",
      "  c/_cffi_backend.c(1385): warning C4244: 'function': conversion from 'Py_ssize_t' to 'int', possible loss of data\n",
      "  c/_cffi_backend.c(1386): warning C4244: 'function': conversion from 'Py_ssize_t' to 'int', possible loss of data\n",
      "  c/_cffi_backend.c(1388): warning C4244: 'function': conversion from 'Py_ssize_t' to 'int', possible loss of data\n",
      "  c/_cffi_backend.c(1398): warning C4244: 'function': conversion from 'Py_ssize_t' to 'int', possible loss of data\n",
      "  c/_cffi_backend.c(1399): warning C4244: 'function': conversion from 'Py_ssize_t' to 'int', possible loss of data\n",
      "  c/_cffi_backend.c(1401): warning C4244: 'function': conversion from 'Py_ssize_t' to 'int', possible loss of data\n",
      "  c/_cffi_backend.c(1420): warning C4244: 'function': conversion from 'Py_ssize_t' to 'int', possible loss of data\n",
      "  c/_cffi_backend.c(1515): warning C4244: 'function': conversion from 'Py_ssize_t' to 'int', possible loss of data\n",
      "  c/_cffi_backend.c(1517): warning C4244: 'function': conversion from 'Py_ssize_t' to 'int', possible loss of data\n",
      "  c/_cffi_backend.c(1537): warning C4244: '=': conversion from 'Py_ssize_t' to 'int', possible loss of data\n",
      "  c/_cffi_backend.c(1540): warning C4244: '=': conversion from 'Py_ssize_t' to 'int', possible loss of data\n",
      "  c/_cffi_backend.c(1865): warning C4244: 'function': conversion from 'Py_ssize_t' to 'int', possible loss of data\n",
      "  c/_cffi_backend.c(1870): warning C4244: 'function': conversion from 'Py_ssize_t' to 'int', possible loss of data\n",
      "  c/_cffi_backend.c(1884): warning C4244: 'function': conversion from 'Py_ssize_t' to 'int', possible loss of data\n",
      "  c/_cffi_backend.c(1933): warning C4244: 'function': conversion from 'Py_ssize_t' to 'int', possible loss of data\n",
      "  c/_cffi_backend.c(1987): warning C4244: 'return': conversion from 'Py_hash_t' to 'long', possible loss of data\n",
      "  c/_cffi_backend.c(3264): warning C4244: 'function': conversion from 'Py_ssize_t' to 'int', possible loss of data\n",
      "  c/_cffi_backend.c(3358): warning C4244: 'function': conversion from 'Py_ssize_t' to 'int', possible loss of data\n",
      "  c/_cffi_backend.c(3331): warning C4996: 'PyUnicode_GET_SIZE': deprecated in 3.3\n",
      "  c/_cffi_backend.c(3458): warning C4244: 'function': conversion from 'Py_ssize_t' to 'int', possible loss of data\n",
      "  c/_cffi_backend.c(3792): error C2061: syntax error: identifier 'ssize_t'\n",
      "  c/_cffi_backend.c(3804): error C2037: left of 'y' specifies undefined struct/union 'aligncheck_c'\n",
      "  c/_cffi_backend.c(3804): error C2037: left of 'y' specifies undefined struct/union 'aligncheck_s'\n",
      "  c/_cffi_backend.c(3804): error C2037: left of 'y' specifies undefined struct/union 'aligncheck_i'\n",
      "  c/_cffi_backend.c(3804): error C2037: left of 'y' specifies undefined struct/union 'aligncheck_l'\n",
      "  c/_cffi_backend.c(3804): error C2037: left of 'y' specifies undefined struct/union 'aligncheck_ll'\n",
      "  c/_cffi_backend.c(3804): error C2037: left of 'y' specifies undefined struct/union 'aligncheck_sc'\n",
      "  c/_cffi_backend.c(3804): error C2037: left of 'y' specifies undefined struct/union 'aligncheck_uc'\n",
      "  c/_cffi_backend.c(3804): error C2037: left of 'y' specifies undefined struct/union 'aligncheck_us'\n",
      "  c/_cffi_backend.c(3804): error C2037: left of 'y' specifies undefined struct/union 'aligncheck_ui'\n",
      "  c/_cffi_backend.c(3804): error C2037: left of 'y' specifies undefined struct/union 'aligncheck_ul'\n",
      "  c/_cffi_backend.c(3804): error C2037: left of 'y' specifies undefined struct/union 'aligncheck_ull'\n",
      "  c/_cffi_backend.c(3804): error C2037: left of 'y' specifies undefined struct/union 'aligncheck_f'\n",
      "  c/_cffi_backend.c(3804): error C2037: left of 'y' specifies undefined struct/union 'aligncheck_d'\n",
      "  c/_cffi_backend.c(3804): error C2037: left of 'y' specifies undefined struct/union 'aligncheck_ld'\n",
      "  c/_cffi_backend.c(3804): error C2037: left of 'y' specifies undefined struct/union 'aligncheck_wc'\n",
      "  c/_cffi_backend.c(3804): error C2037: left of 'y' specifies undefined struct/union 'aligncheck_b'\n",
      "  c/_cffi_backend.c(3804): error C2037: left of 'y' specifies undefined struct/union 'aligncheck_i8'\n",
      "  c/_cffi_backend.c(3804): error C2037: left of 'y' specifies undefined struct/union 'aligncheck_u8'\n",
      "  c/_cffi_backend.c(3804): error C2037: left of 'y' specifies undefined struct/union 'aligncheck_i16'\n",
      "  c/_cffi_backend.c(3804): error C2037: left of 'y' specifies undefined struct/union 'aligncheck_u16'\n",
      "  c/_cffi_backend.c(3804): error C2037: left of 'y' specifies undefined struct/union 'aligncheck_i32'\n",
      "  c/_cffi_backend.c(3804): error C2037: left of 'y' specifies undefined struct/union 'aligncheck_u32'\n",
      "  c/_cffi_backend.c(3804): error C2037: left of 'y' specifies undefined struct/union 'aligncheck_i64'\n",
      "  c/_cffi_backend.c(3804): error C2037: left of 'y' specifies undefined struct/union 'aligncheck_u64'\n",
      "  c/_cffi_backend.c(3804): error C2037: left of 'y' specifies undefined struct/union 'aligncheck_il8'\n",
      "  c/_cffi_backend.c(3804): error C2037: left of 'y' specifies undefined struct/union 'aligncheck_ul8'\n",
      "  c/_cffi_backend.c(3804): error C2037: left of 'y' specifies undefined struct/union 'aligncheck_il16'\n",
      "  c/_cffi_backend.c(3804): error C2037: left of 'y' specifies undefined struct/union 'aligncheck_ul16'\n",
      "  c/_cffi_backend.c(3804): error C2037: left of 'y' specifies undefined struct/union 'aligncheck_il32'\n",
      "  c/_cffi_backend.c(3804): error C2037: left of 'y' specifies undefined struct/union 'aligncheck_ul32'\n",
      "  c/_cffi_backend.c(3804): error C2037: left of 'y' specifies undefined struct/union 'aligncheck_il64'\n",
      "  c/_cffi_backend.c(3804): error C2037: left of 'y' specifies undefined struct/union 'aligncheck_ul64'\n",
      "  c/_cffi_backend.c(3804): error C2037: left of 'y' specifies undefined struct/union 'aligncheck_if8'\n",
      "  c/_cffi_backend.c(3804): error C2037: left of 'y' specifies undefined struct/union 'aligncheck_uf8'\n",
      "  c/_cffi_backend.c(3804): error C2037: left of 'y' specifies undefined struct/union 'aligncheck_if16'\n",
      "  c/_cffi_backend.c(3804): error C2037: left of 'y' specifies undefined struct/union 'aligncheck_uf16'\n",
      "  c/_cffi_backend.c(3804): error C2037: left of 'y' specifies undefined struct/union 'aligncheck_if32'\n",
      "  c/_cffi_backend.c(3804): error C2037: left of 'y' specifies undefined struct/union 'aligncheck_uf32'\n",
      "  c/_cffi_backend.c(3804): error C2037: left of 'y' specifies undefined struct/union 'aligncheck_if64'\n",
      "  c/_cffi_backend.c(3804): error C2037: left of 'y' specifies undefined struct/union 'aligncheck_uf64'\n",
      "  c/_cffi_backend.c(3804): error C2037: left of 'y' specifies undefined struct/union 'aligncheck_ip'\n",
      "  c/_cffi_backend.c(3804): error C2037: left of 'y' specifies undefined struct/union 'aligncheck_up'\n",
      "  c/_cffi_backend.c(3804): error C2037: left of 'y' specifies undefined struct/union 'aligncheck_im'\n",
      "  c/_cffi_backend.c(3804): error C2037: left of 'y' specifies undefined struct/union 'aligncheck_um'\n",
      "  c/_cffi_backend.c(3804): error C2037: left of 'y' specifies undefined struct/union 'aligncheck_pd'\n",
      "  c/_cffi_backend.c(3804): error C2037: left of 'y' specifies undefined struct/union 'aligncheck_sz'\n",
      "  c/_cffi_backend.c(3804): error C2065: 'ssize_t': undeclared identifier\n",
      "  c/_cffi_backend.c(3804): error C2037: left of 'y' specifies undefined struct/union 'aligncheck_ssz'\n",
      "  c/_cffi_backend.c(3815): error C2059: syntax error: 'for'\n",
      "  c/_cffi_backend.c(3815): error C2143: syntax error: missing '{' before '++'\n",
      "  c/_cffi_backend.c(3815): error C2059: syntax error: '++'\n",
      "  c/_cffi_backend.c(3815): error C2059: syntax error: ')'\n",
      "  c/_cffi_backend.c(3829): error C2059: syntax error: 'if'\n",
      "  c/_cffi_backend.c(3838): error C2059: syntax error: 'else'\n",
      "  c/_cffi_backend.c(3855): error C2059: syntax error: 'else'\n",
      "  c/_cffi_backend.c(3865): error C2099: initializer is not a constant\n",
      "  c/_cffi_backend.c(3866): error C2040: 'td': 'int' differs in levels of indirection from 'CTypeDescrObject *'\n",
      "  c/_cffi_backend.c(3867): error C2059: syntax error: 'if'\n",
      "  c/_cffi_backend.c(3870): error C2143: syntax error: missing ')' before '->'\n",
      "  c/_cffi_backend.c(3870): error C2143: syntax error: missing '{' before '->'\n",
      "  c/_cffi_backend.c(3870): error C2059: syntax error: '->'\n",
      "  c/_cffi_backend.c(3870): error C2059: syntax error: ')'\n",
      "  c/_cffi_backend.c(3871): error C2143: syntax error: missing '{' before '->'\n",
      "  c/_cffi_backend.c(3871): error C2059: syntax error: '->'\n",
      "  c/_cffi_backend.c(3872): error C2143: syntax error: missing '{' before '->'\n",
      "  c/_cffi_backend.c(3872): error C2059: syntax error: '->'\n",
      "  c/_cffi_backend.c(3873): error C2143: syntax error: missing '{' before '->'\n",
      "  c/_cffi_backend.c(3873): error C2059: syntax error: '->'\n",
      "  c/_cffi_backend.c(3874): error C2143: syntax error: missing '{' before '->'\n",
      "  c/_cffi_backend.c(3874): error C2059: syntax error: '->'\n",
      "  c/_cffi_backend.c(3875): error C2059: syntax error: 'if'\n",
      "  c/_cffi_backend.c(3879): error C2059: syntax error: 'else'\n",
      "  c/_cffi_backend.c(3883): error C2143: syntax error: missing '{' before '->'\n",
      "  c/_cffi_backend.c(3883): error C2059: syntax error: '->'\n",
      "  c/_cffi_backend.c(3884): error C2040: 'unique_key': 'int [0]' differs in levels of indirection from 'const void *[1]'\n",
      "  c/_cffi_backend.c(3885): error C2059: syntax error: 'return'\n",
      "  c/_cffi_backend.c(3887): error C2143: syntax error: missing '{' before ':'\n",
      "  c/_cffi_backend.c(3887): error C2059: syntax error: ':'\n",
      "  c/_cffi_backend.c(3892): error C2059: syntax error: 'return'\n",
      "  c/_cffi_backend.c(3893): error C2059: syntax error: '}'\n",
      "  c/_cffi_backend.c(4027): warning C4267: '=': conversion from 'size_t' to 'int', possible loss of data\n",
      "  c/_cffi_backend.c(4018): warning C4267: 'initializing': conversion from 'size_t' to 'int', possible loss of data\n",
      "  c/_cffi_backend.c(4039): warning C4267: 'initializing': conversion from 'size_t' to 'int', possible loss of data\n",
      "  c/_cffi_backend.c(4384): warning C4244: '=': conversion from 'Py_ssize_t' to 'int', possible loss of data\n",
      "  c/_cffi_backend.c(4425): warning C4244: '=': conversion from 'Py_ssize_t' to 'int', possible loss of data\n",
      "  c/_cffi_backend.c(4433): warning C4244: '=': conversion from 'Py_ssize_t' to 'int', possible loss of data\n",
      "  c/_cffi_backend.c(4251): warning C4996: 'PyUnicode_GetSize': deprecated in 3.3\n",
      "  c/_cffi_backend.c(4283): warning C4996: 'PyUnicode_GetSize': deprecated in 3.3\n",
      "  c/_cffi_backend.c(4353): warning C4996: 'PyUnicode_GetSize': deprecated in 3.3\n",
      "  c/_cffi_backend.c(4627): warning C4244: '=': conversion from 'Py_ssize_t' to 'unsigned short', possible loss of data\n",
      "  c/_cffi_backend.c(4742): warning C4267: 'function': conversion from 'size_t' to 'int', possible loss of data\n",
      "  c/_cffi_backend.c(4746): warning C4244: '=': conversion from 'Py_ssize_t' to 'int', possible loss of data\n",
      "  c/_cffi_backend.c(4762): warning C4267: 'function': conversion from 'size_t' to 'int', possible loss of data\n",
      "  c/_cffi_backend.c(4775): warning C4267: 'function': conversion from 'size_t' to 'int', possible loss of data\n",
      "  c/_cffi_backend.c(4804): warning C4244: 'function': conversion from 'Py_ssize_t' to 'int', possible loss of data\n",
      "  c/_cffi_backend.c(4854): warning C4244: 'function': conversion from 'Py_ssize_t' to 'unsigned int', possible loss of data\n",
      "  c/_cffi_backend.c(4939): warning C4244: 'function': conversion from 'Py_ssize_t' to 'long', possible loss of data\n",
      "  c/_cffi_backend.c(5214): warning C4996: 'PyEval_InitThreads': deprecated in 3.9\n",
      "  c/_cffi_backend.c(5364): warning C4267: '=': conversion from 'size_t' to 'int', possible loss of data\n",
      "  c/_cffi_backend.c(5475): error C2065: 'ssize_t': undeclared identifier\n",
      "  c/_cffi_backend.c(5475): error C2146: syntax error: missing ';' before identifier 'index'\n",
      "  c/_cffi_backend.c(5475): error C2065: 'index': undeclared identifier\n",
      "  c/_cffi_backend.c(5475): warning C4244: '=': conversion from 'Py_ssize_t' to 'int', possible loss of data\n",
      "  c/_cffi_backend.c(5476): error C2065: 'index': undeclared identifier\n",
      "  c/_cffi_backend.c(5490): error C2065: 'index': undeclared identifier\n",
      "  c/_cffi_backend.c(5491): error C2065: 'index': undeclared identifier\n",
      "  c/_cffi_backend.c(6427): error C2065: 'b_new_primitive_type': undeclared identifier\n",
      "  c/_cffi_backend.c(6427): error C2099: initializer is not a constant\n",
      "  c/_cffi_backend.c(6427): warning C4047: 'initializing': 'PyCFunction' differs in levels of indirection from 'int'\n",
      "  C:\\Users\\DIKSHA\\AppData\\Local\\Temp\\pip-install-3rqdyi3h\\cffi_58ed7bb70ef345418f1a34209914097d\\c\\parse_c_type.c(217): warning C4267: 'return': conversion from 'size_t' to 'int', possible loss of data\n",
      "  C:\\Users\\DIKSHA\\AppData\\Local\\Temp\\pip-install-3rqdyi3h\\cffi_58ed7bb70ef345418f1a34209914097d\\c\\parse_c_type.c(286): warning C4267: '=': conversion from 'size_t' to 'int', possible loss of data\n",
      "  C:\\Users\\DIKSHA\\AppData\\Local\\Temp\\pip-install-3rqdyi3h\\cffi_58ed7bb70ef345418f1a34209914097d\\c\\parse_c_type.c(340): warning C4244: '=': conversion from 'intptr_t' to 'int', possible loss of data\n",
      "  C:\\Users\\DIKSHA\\AppData\\Local\\Temp\\pip-install-3rqdyi3h\\cffi_58ed7bb70ef345418f1a34209914097d\\c\\parse_c_type.c(444): warning C4244: 'return': conversion from 'intptr_t' to 'int', possible loss of data\n",
      "  C:\\Users\\DIKSHA\\AppData\\Local\\Temp\\pip-install-3rqdyi3h\\cffi_58ed7bb70ef345418f1a34209914097d\\c\\realize_c_type.c(425): warning C4244: 'function': conversion from 'intptr_t' to 'int', possible loss of data\n",
      "  C:\\Users\\DIKSHA\\AppData\\Local\\Temp\\pip-install-3rqdyi3h\\cffi_58ed7bb70ef345418f1a34209914097d\\c\\realize_c_type.c(430): warning C4244: 'function': conversion from 'intptr_t' to 'int', possible loss of data\n",
      "  C:\\Users\\DIKSHA\\AppData\\Local\\Temp\\pip-install-3rqdyi3h\\cffi_58ed7bb70ef345418f1a34209914097d\\c\\realize_c_type.c(448): warning C4244: 'function': conversion from 'intptr_t' to 'int', possible loss of data\n",
      "  C:\\Users\\DIKSHA\\AppData\\Local\\Temp\\pip-install-3rqdyi3h\\cffi_58ed7bb70ef345418f1a34209914097d\\c\\realize_c_type.c(460): warning C4244: 'function': conversion from 'intptr_t' to 'int', possible loss of data\n",
      "  C:\\Users\\DIKSHA\\AppData\\Local\\Temp\\pip-install-3rqdyi3h\\cffi_58ed7bb70ef345418f1a34209914097d\\c\\realize_c_type.c(559): warning C4244: 'function': conversion from 'intptr_t' to 'int', possible loss of data\n",
      "  C:\\Users\\DIKSHA\\AppData\\Local\\Temp\\pip-install-3rqdyi3h\\cffi_58ed7bb70ef345418f1a34209914097d\\c\\realize_c_type.c(621): warning C4244: 'function': conversion from 'intptr_t' to 'int', possible loss of data\n",
      "  C:\\Users\\DIKSHA\\AppData\\Local\\Temp\\pip-install-3rqdyi3h\\cffi_58ed7bb70ef345418f1a34209914097d\\c\\realize_c_type.c(670): warning C4244: 'function': conversion from 'intptr_t' to 'int', possible loss of data\n",
      "  C:\\Users\\DIKSHA\\AppData\\Local\\Temp\\pip-install-3rqdyi3h\\cffi_58ed7bb70ef345418f1a34209914097d\\c\\realize_c_type.c(723): warning C4244: 'function': conversion from 'intptr_t' to 'int', possible loss of data\n",
      "  C:\\Users\\DIKSHA\\AppData\\Local\\Temp\\pip-install-3rqdyi3h\\cffi_58ed7bb70ef345418f1a34209914097d\\c\\ffi_obj.c(191): warning C4090: 'initializing': different 'const' qualifiers\n",
      "  C:\\Users\\DIKSHA\\AppData\\Local\\Temp\\pip-install-3rqdyi3h\\cffi_58ed7bb70ef345418f1a34209914097d\\c\\lib_obj.c(126): warning C4244: 'initializing': conversion from 'intptr_t' to 'int', possible loss of data\n",
      "  C:\\Users\\DIKSHA\\AppData\\Local\\Temp\\pip-install-3rqdyi3h\\cffi_58ed7bb70ef345418f1a34209914097d\\c\\lib_obj.c(129): warning C4090: 'initializing': different 'const' qualifiers\n",
      "  C:\\Users\\DIKSHA\\AppData\\Local\\Temp\\pip-install-3rqdyi3h\\cffi_58ed7bb70ef345418f1a34209914097d\\c\\lib_obj.c(298): warning C4244: 'function': conversion from 'intptr_t' to 'int', possible loss of data\n",
      "  C:\\Users\\DIKSHA\\AppData\\Local\\Temp\\pip-install-3rqdyi3h\\cffi_58ed7bb70ef345418f1a34209914097d\\c\\lib_obj.c(342): warning C4244: 'function': conversion from 'intptr_t' to 'int', possible loss of data\n",
      "  C:\\Users\\DIKSHA\\AppData\\Local\\Temp\\pip-install-3rqdyi3h\\cffi_58ed7bb70ef345418f1a34209914097d\\c\\lib_obj.c(368): warning C4244: 'function': conversion from 'intptr_t' to 'int', possible loss of data\n",
      "  C:\\Users\\DIKSHA\\AppData\\Local\\Temp\\pip-install-3rqdyi3h\\cffi_58ed7bb70ef345418f1a34209914097d\\c\\lib_obj.c(389): warning C4244: 'function': conversion from 'intptr_t' to 'int', possible loss of data\n",
      "  C:\\Users\\DIKSHA\\AppData\\Local\\Temp\\pip-install-3rqdyi3h\\cffi_58ed7bb70ef345418f1a34209914097d\\c\\lib_obj.c(403): warning C4244: 'function': conversion from 'intptr_t' to 'int', possible loss of data\n",
      "  C:\\Users\\DIKSHA\\AppData\\Local\\Temp\\pip-install-3rqdyi3h\\cffi_58ed7bb70ef345418f1a34209914097d\\c\\lib_obj.c(208): warning C4090: 'initializing': different 'const' qualifiers\n",
      "  C:\\Users\\DIKSHA\\AppData\\Local\\Temp\\pip-install-3rqdyi3h\\cffi_58ed7bb70ef345418f1a34209914097d\\c\\lib_obj.c(506): warning C4090: '=': different 'const' qualifiers\n",
      "  C:\\Users\\DIKSHA\\AppData\\Local\\Temp\\pip-install-3rqdyi3h\\cffi_58ed7bb70ef345418f1a34209914097d\\c\\cdlopen.c(190): warning C4244: '=': conversion from 'Py_ssize_t' to 'int', possible loss of data\n",
      "  C:\\Users\\DIKSHA\\AppData\\Local\\Temp\\pip-install-3rqdyi3h\\cffi_58ed7bb70ef345418f1a34209914097d\\c\\cdlopen.c(235): warning C4244: '=': conversion from 'Py_ssize_t' to 'int', possible loss of data\n",
      "  C:\\Users\\DIKSHA\\AppData\\Local\\Temp\\pip-install-3rqdyi3h\\cffi_58ed7bb70ef345418f1a34209914097d\\c\\cdlopen.c(267): warning C4244: '=': conversion from 'Py_ssize_t' to 'int', possible loss of data\n",
      "  C:\\Users\\DIKSHA\\AppData\\Local\\Temp\\pip-install-3rqdyi3h\\cffi_58ed7bb70ef345418f1a34209914097d\\c\\cdlopen.c(268): warning C4244: '=': conversion from 'Py_ssize_t' to 'int', possible loss of data\n",
      "  C:\\Users\\DIKSHA\\AppData\\Local\\Temp\\pip-install-3rqdyi3h\\cffi_58ed7bb70ef345418f1a34209914097d\\c\\cdlopen.c(280): warning C4244: '=': conversion from 'Py_ssize_t' to 'int', possible loss of data\n",
      "  C:\\Users\\DIKSHA\\AppData\\Local\\Temp\\pip-install-3rqdyi3h\\cffi_58ed7bb70ef345418f1a34209914097d\\c\\cdlopen.c(281): warning C4244: '=': conversion from 'Py_ssize_t' to 'int', possible loss of data\n",
      "  C:\\Users\\DIKSHA\\AppData\\Local\\Temp\\pip-install-3rqdyi3h\\cffi_58ed7bb70ef345418f1a34209914097d\\c\\cdlopen.c(301): warning C4244: '=': conversion from 'Py_ssize_t' to 'int', possible loss of data\n",
      "  C:\\Users\\DIKSHA\\AppData\\Local\\Temp\\pip-install-3rqdyi3h\\cffi_58ed7bb70ef345418f1a34209914097d\\c\\cdlopen.c(321): warning C4244: '=': conversion from 'Py_ssize_t' to 'int', possible loss of data\n",
      "  C:\\Users\\DIKSHA\\AppData\\Local\\Temp\\pip-install-3rqdyi3h\\cffi_58ed7bb70ef345418f1a34209914097d\\c\\cdlopen.c(322): warning C4244: '=': conversion from 'Py_ssize_t' to 'int', possible loss of data\n",
      "  C:\\Users\\DIKSHA\\AppData\\Local\\Temp\\pip-install-3rqdyi3h\\cffi_58ed7bb70ef345418f1a34209914097d\\c\\cdlopen.c(327): warning C4244: '=': conversion from 'Py_ssize_t' to 'int', possible loss of data\n",
      "  C:\\Users\\DIKSHA\\AppData\\Local\\Temp\\pip-install-3rqdyi3h\\cffi_58ed7bb70ef345418f1a34209914097d\\c\\cdlopen.c(347): warning C4244: '=': conversion from 'Py_ssize_t' to 'int', possible loss of data\n",
      "  C:\\Users\\DIKSHA\\AppData\\Local\\Temp\\pip-install-3rqdyi3h\\cffi_58ed7bb70ef345418f1a34209914097d\\c\\cdlopen.c(351): warning C4244: '=': conversion from 'Py_ssize_t' to 'int', possible loss of data\n",
      "  C:\\Users\\DIKSHA\\AppData\\Local\\Temp\\pip-install-3rqdyi3h\\cffi_58ed7bb70ef345418f1a34209914097d\\c\\call_python.c(20): error C2037: left of 'builtins' specifies undefined struct/union '_is'\n",
      "  C:\\Users\\DIKSHA\\AppData\\Local\\Temp\\pip-install-3rqdyi3h\\cffi_58ed7bb70ef345418f1a34209914097d\\c\\call_python.c(73): warning C4090: '=': different 'const' qualifiers\n",
      "  C:\\Users\\DIKSHA\\AppData\\Local\\Temp\\pip-install-3rqdyi3h\\cffi_58ed7bb70ef345418f1a34209914097d\\c\\call_python.c(90): warning C4244: 'function': conversion from 'intptr_t' to 'int', possible loss of data\n",
      "  C:\\Users\\DIKSHA\\AppData\\Local\\Temp\\pip-install-3rqdyi3h\\cffi_58ed7bb70ef345418f1a34209914097d\\c\\call_python.c(160): error C2037: left of 'modules' specifies undefined struct/union '_is'\n",
      "  C:\\Users\\DIKSHA\\AppData\\Local\\Temp\\pip-install-3rqdyi3h\\cffi_58ed7bb70ef345418f1a34209914097d\\c\\call_python.c(235): error C2037: left of 'modules' specifies undefined struct/union '_is'\n",
      "  error: command 'C:\\\\Program Files (x86)\\\\Microsoft Visual Studio\\\\2019\\\\BuildTools\\\\VC\\\\Tools\\\\MSVC\\\\14.29.30133\\\\bin\\\\HostX86\\\\x64\\\\cl.exe' failed with exit code 2\n",
      "  [end of output]\n",
      "  \n",
      "  note: This error originates from a subprocess, and is likely not a problem with pip.\n",
      "  ERROR: Failed building wheel for cffi\n",
      "ERROR: Could not build wheels for cffi, which is required to install pyproject.toml-based projects\n"
     ]
    },
    {
     "name": "stdout",
     "output_type": "stream",
     "text": [
      "Collecting python-magic-bin\n",
      "  Downloading python_magic_bin-0.4.14-py2.py3-none-win_amd64.whl (409 kB)\n",
      "     ---------------------------------------- 0.0/409.3 kB ? eta -:--:--\n",
      "     - -------------------------------------- 10.2/409.3 kB ? eta -:--:--\n",
      "     -- ---------------------------------- 30.7/409.3 kB 330.3 kB/s eta 0:00:02\n",
      "     ----- ------------------------------- 61.4/409.3 kB 469.7 kB/s eta 0:00:01\n",
      "     ------------------- ------------------ 204.8/409.3 kB 1.2 MB/s eta 0:00:01\n",
      "     -------------------------------------  399.4/409.3 kB 1.9 MB/s eta 0:00:01\n",
      "     -------------------------------------- 409.3/409.3 kB 1.7 MB/s eta 0:00:00\n",
      "Installing collected packages: python-magic-bin\n",
      "Successfully installed python-magic-bin-0.4.14\n"
     ]
    }
   ],
   "source": [
    "!pip install python-libmagic\n",
    "!pip install python-magic-bin"
   ]
  },
  {
   "cell_type": "code",
   "execution_count": 19,
   "id": "80f98a6d",
   "metadata": {},
   "outputs": [
    {
     "name": "stdout",
     "output_type": "stream",
     "text": [
      "Requirement already satisfied: python-magic in c:\\users\\diksha\\anaconda3\\lib\\site-packages (0.4.27)\n"
     ]
    }
   ],
   "source": [
    "!pip install python-magic"
   ]
  },
  {
   "cell_type": "code",
   "execution_count": 21,
   "id": "7f5bc188",
   "metadata": {},
   "outputs": [
    {
     "name": "stderr",
     "output_type": "stream",
     "text": [
      "ERROR: Could not find a version that satisfies the requirement libmagic1 (from versions: none)\n",
      "ERROR: No matching distribution found for libmagic1\n"
     ]
    }
   ],
   "source": [
    "!pip install libmagic1 libmagic-dev"
   ]
  },
  {
   "cell_type": "code",
   "execution_count": 30,
   "id": "2c5687d3",
   "metadata": {},
   "outputs": [
    {
     "name": "stderr",
     "output_type": "stream",
     "text": [
      "libmagic is unavailable but assists in filetype detection on file-like objects. Please consider installing libmagic for better results.\n",
      "Error fetching or processing https://www.understandingwar.org/backgrounder/russian-offensive-campaign-assessment-february-8-2023, exception: Invalid file. The FileType.UNK file type is not supported in partition.\n",
      "libmagic is unavailable but assists in filetype detection on file-like objects. Please consider installing libmagic for better results.\n",
      "Error fetching or processing https://www.understandingwar.org/backgrounder/russian-offensive-campaign-assessment-february-9-2023, exception: Invalid file. The FileType.UNK file type is not supported in partition.\n"
     ]
    }
   ],
   "source": [
    "data = loader.load()"
   ]
  },
  {
   "cell_type": "code",
   "execution_count": 14,
   "id": "bdda51b5",
   "metadata": {},
   "outputs": [
    {
     "data": {
      "text/plain": [
       "[]"
      ]
     },
     "execution_count": 14,
     "metadata": {},
     "output_type": "execute_result"
    }
   ],
   "source": [
    "data"
   ]
  },
  {
   "cell_type": "code",
   "execution_count": 31,
   "id": "95c1c6d5",
   "metadata": {},
   "outputs": [],
   "source": [
    "from langchain_community.document_loaders import SeleniumURLLoader"
   ]
  },
  {
   "cell_type": "code",
   "execution_count": 36,
   "id": "858739b5",
   "metadata": {},
   "outputs": [],
   "source": [
    "urls = [\n",
    "    \"https://www.bengaluruairport.com/travellers/at-the-airport/experience/retail-store\",\n",
    "    \"https://www.bengaluruairport.com/travellers/transport-parking\",\n",
    "]"
   ]
  },
  {
   "cell_type": "code",
   "execution_count": 37,
   "id": "22b1178a",
   "metadata": {},
   "outputs": [],
   "source": [
    "loader = SeleniumURLLoader(urls=urls)"
   ]
  },
  {
   "cell_type": "code",
   "execution_count": 38,
   "id": "1455d8a9",
   "metadata": {},
   "outputs": [],
   "source": [
    "data = loader.load()"
   ]
  },
  {
   "cell_type": "code",
   "execution_count": 39,
   "id": "1732d0be",
   "metadata": {},
   "outputs": [
    {
     "data": {
      "text/plain": [
       "[Document(page_content=\"FLIGHTS\\n\\nTRANSPORT\\n\\nBEFORE YOU FLY\\n\\nAT THE AIRPORT\\n\\nSERVICES\\n\\nCORPORATE\\n\\nRetail Therapy Under One Roof\\n\\nAt the BLR airport, brands and products from across the world line up to seek your attention. Indulge in some retail therapy and explore the world of shopping.\\n\\nT1 Domestic\\n\\nT2 Domestic\\n\\nT2 International\\n\\nAccessorize\\n\\nUltimate stop for all New women's fashions accessories have landed! Our Accessorize bags, purses, jewellery, shoes, accessories, gifts and beachwear will get you\\xa0…at BLR Aiprort\\n\\nTimings : Open 24 hours\\n\\nLocation : Domestic Departure\\n\\nContact Details\\n\\nUsman\\n\\n+91-9916948111\\n\\nusmanrehman2009@gmail.com\\n\\nArcelia by Shoppers Stop\\n\\nA great fragrance is much more than just the fragrance. It’s the thought, the story and the approach behind its creation that makes it memorable. We truly believe that a great fragrance starts with its aroma and ends with myriad of memories and experiences enabling a story to be born. The biggest ingredient common in every fragrance we create is heart. Our fragrances start with the aroma, flirt with your memories, and find a place to settle down in your heart. This fragrance journey lets you dive deeper than the surface of its aroma to create your own story by shoppers stop\\n\\nTimings : Open 24 hours\\n\\nLocation : Domestic Depature\\n\\nContact Details\\n\\nUmesh\\n\\n+91-9725609208\\n\\nBlrAirport_ROM@shoppersstop.com\\n\\nArtPort by IRHPL\\n\\nArtPort by IRHPL\\xa0\\xa0(Art & Artifacts) store is a fusion of contemporary-classic finishes with traditional patterns, which represents India's Art and Artifacts from Indian regions with rich heritage. Art, Artifacts &\\xa0 Souvenir for yourself, your friends and family from all parts of India starting from Kashmiri's Pashmina Shawls to Palm Leaf painting of Kanyakumari are all available under one roof.\\n\\nTimings : Open 24 hours\\n\\nLocation : Domestic Departure\\n\\nContact Details\\n\\nP S Lakshmi Narayana\\n\\n+91-7483404889\\n\\nLakshmi.narayana@irhpl.in\\n\\nCaratlane\\n\\nVisit Caratlane - A Tanishq partnership to discover beautiful\\xa0fine jewellery\\xa0for everyday wear. Check out personalised gifts for all occasions starting at\\xa0₹5000.\\n\\nTimings : Open 24 hours\\n\\nLocation : Domestic departure\\n\\nContact Details\\n\\nGopinath V\\n\\n+91-9535856265\\n\\n+91-822007644\\n\\ngopinath.v@caratlane.com\\n\\nclblrair@caratlane.com\\n\\n«\\n\\n1\\n\\n2\\n\\n3\\n\\n4\\n\\n5\\n\\n...Next\\n\\n8\\n\\n»\\n\\nLoad More\\n\\nFAQs\\n\\nDisclaimer\\n\\nContact Us\\n\\nTerms of Use\\n\\nPrivacy Policy\\n\\nCopyright Notice\\n\\nFAQs\\n\\nDisclaimer\\n\\nContact Us\\n\\nTerms of Use\\n\\nPrivacy Policy\\n\\nCopyright Notice\\n\\nDownload BLR Pulse App\\n\\n© 2023 BIAL. All Rights Reserved.\\n\\nBack to top\\n\\nHOME\\n\\nFLIGHTS\\n\\nFOOD\\n\\nTRANSPORT\\n\\nPROFILE\\n\\nWe use cookies to enhance your browsing experience on this website. If you continue to use the site you agree to our use of cookies. Find out more in our Privacy Policy here\", metadata={'source': 'https://www.bengaluruairport.com/travellers/at-the-airport/experience/retail-store', 'title': 'Shops at Bangalore Airport | Bangalore Airport Inside Shops | BLR Airport', 'description': \"You'll find brands and products from all over the world in the shops of the Bangalore Airport. Explore the world of shopping and indulge in some retail therapy at Bangalore Airport.\", 'language': 'en'}),\n",
       " Document(page_content=\"FLIGHTS\\n\\nTRANSPORT\\n\\nBEFORE YOU FLY\\n\\nAT THE AIRPORT\\n\\nSERVICES\\n\\nCORPORATE\\n\\nEfficient Travel Choices\\n\\nAirport - Vayu Vajra\\n\\nIntercity Bus\\n\\nCar Rentals\\n\\nAirport Taxi\\n\\nApp Taxis\\n\\nParking\\n\\nTrains\\n\\nAirport Bus - Vayu Vajra\\n\\nThe BMTC Vayu Vajra AC bus service is an efficient and inexpensive mode of transport. The fleet of air-conditioned buses offers seamless service to and from the City.\\xa0\\xa0Click here for more information.\\n\\nInformation:For queries, please contact KSRTC call centre on 080-26252625.\\n\\nSearch By Stop\\n\\nSearch By Route\\n\\nSearch\\n\\nOrigin\\n\\nDestination\\n\\nDeparture\\n\\nArrival\\n\\nNo. Of Stops\\n\\nJourney distance\\n\\nFare\\n\\nView all stops\\n\\nBus Stops\\n\\nRoute -\\n\\nClear Skies Here!\\n\\nNote: Mode of payment: Bus fare will be collected by cash only, upon boarding.\\n\\nSearch\\n\\nOrigin\\n\\nDestination\\n\\nDeparture\\n\\nArrival\\n\\nNo. Of Stops\\n\\nJourney distance\\n\\nFare\\n\\nView all stops\\n\\nBus Stops\\n\\nClear Skies Here!\\n\\nNote: Mode of payment: Bus fare will be collected by cash only, upon boarding.\\n\\nIntercity Bus Service - Flybus\\n\\nThe Flybus is an inter-city air-conditioned bus service offered by KSRTC for travel between BLR Airport and cities in Karnataka and other South Indian states.\\nLocation: Currently BMTC operates from Terminal 2 MMTH mezzanine floor. There is a vehicle staging at Terminal 1, and  pick-up and drop-off services are facilitated through Terminal 1.\\n\\nBOOK YOUR TICKETS\\n\\norigin placeholder\\n\\nKundapura\\n\\nMadikeri\\n\\nMysuru\\n\\nKempegowda International Airport Bengaluru\\n\\ndestination placeholder\\n\\nKundapura\\n\\nMadikeri\\n\\nMysuru\\n\\nDeparture Time\\n\\nArrival Time\\n\\nClear Skies Here!\\n\\nWebsite:- www.ksrtc.in\\n\\nAirport KSRTC Helpline number - 9972213726\\n\\nTransportation - Car Rental\\n\\nCarzonrent & WTi cabs offers a wide range of vehicles and payment options.\\n\\nCarzonrent & WTi cabs offers a wide range of vehicles and payment options.\\n\\nWTi cabs\\n\\nCarzonrent\\n\\nLaunched in 2009, WTi cabs is one of the largest integrated ground transportation solutions company in India with diversified portfolios in personal ground transportation, offering services to all Domestic & International Travelers with a wide range of vehicles. WTi aims to have a presence across the value chain through services in corporate car rental and airports. It is currently present across 85 cities with fleet size of 5200 cars & provides chauffeur driven, self-drive, limo service and employee transportation services to corporate clients.\\n\\nWTi has in its lineage some of India’s most pioneering and workable business models introduced in the “Personal Ground Transportations Space”. Today the company can boost of making some large entrepreneur’s in the field of Car rental in the country. The company is shaped by value-based guiding principles that underpin every business decision.\\n\\nWTi has in its lineage some of India’s most pioneering and workable business models introduced in the “Personal Ground Transportations Space”. Today the company can boost of making some large entrepreneur’s in the field of Car rental in the country. The company is shaped by value-based guiding principles that underpin every business decision.\\n\\nWith the objective of providing best in class quality of service with unmatched network spanning all the key cities of India. The operations are carried out with large fleet on road and robust technology platform. We are one of the promising car rental companies in India, well poised to garner further market share in the corporate car rental space.\\n\\nhttps://www.wticabs.com/\\n\\n+91-8884449775\\n\\nThe service is available at the WTi cabs at the Kempegowda International Airport Bengaluru.\\n\\nCarzonrent (India) Pvt. Ltd. was launched in the year 2000 with a short-term objective of offering a safe & reliable medium of travel to customers and a long-term vision of giving form and structure to the unorganized Indian personal ground transportation industry and helping the industry get its due recognition. “COR” the branding of Carzonrent signifies the fact that Personal Ground Transportation is the “Core” business of Carzonrent.\\n\\nCarzonrent today is the largest personal ground transportation service provider in the country. With its fleet of 7500 cars, Carzonrent does 20000 trips daily clocking 100000 km every day to satisfy 6000000 customers annually\\n\\nCarzonrent today is the largest personal ground transportation service provider in the country. With its fleet of 7500 cars, Carzonrent does 20000 trips daily clocking 100000 km every day to satisfy 6000000 customers annually\\n\\nAt Kempegowda International Airport Bengaluru, Carzonrent ensures quality service to customers with a dedicated fleet of cars ranging from Mahindra e2o to Mercedes-Benz for Local, Outstation & Self-drive services. With technology-ready reservation desks, Carzonrent offers benefits like online reservation and inventory management system, ensuring seamless and efficient service. Apart from the 650+ corporate clients, it has tie-ups with all leading airlines, banks, credit and debit cards like American Express, Indigo airlines, etc.\\n\\nhttps://www.carzonrent.com/\\n\\n+91-9972502292\\n\\nThe Service is available at the Carzonrent counter at the Kempegowda International Airport Bengaluru.\\n\\nAirport Taxi\\n\\nThe Airport Taxi service is easily accessible from the Arrival Zone. A special pink taxi service driven by women is also available exclusively for women.\\n\\nA/C Taxis\\n\\nWomen Driven Taxi (KSTDC ONLY, AC Sedan)\\n\\nNon A/C Taxis (KSTDC ONLY)\\n\\nType Of Charges Minimum Fare Fare Hire Charges ₹ 100/- (4km) ₹ 24 per km Waiting Charges FREE (first 05 minutes) ₹ 1 per minute Luggage Charges FREE (first 120 kgs) ₹ 7 every 20kgs Night Charges (12am - 6am) - 10% on the above fare\\n\\nMega Cabs is India’s first GPS/GRPS Radio Taxi Service provider. The company owns and operates a fleet of over 2,500 cabs with Toyota Etios and Tata Indigo cars, across the country.\\n\\nhttp://www.megacabs.com/\\n\\nfeedback@megacabs.com\\n\\nMerucabs uses high-end technology to geographically track its vehicles and give customers real time response on cab availability.\\n\\nhttps://www.meru.in/\\n\\nfeedbackblr@merucabs.com\\n\\nMERU to 57575\\n\\nKarnataka State Tourism Development Corporation (KSTDC) is the largest Tour Operator in Karnataka. All the taxis are fitted with state of the art technology like GPS, GPRS & Printing machines with easy tracking, quick & transparent billing.\\n\\nhttps://www.kstdc.co/\\n\\ntaxis@karnatakaholidays.net\\n\\n+91-8044664466\\n\\nWomen driven taxis: Safe rides for women passengers\\n\\nA special ‘women drivers’ cab service is available at BLR Airport. Women driven taxis offer a safe mode of transport for women passengers. Women drivers called ‘Pilots’ operate these cabs that are available 24x7 at BLR Airport and can be booked by women passengers only. \\nWomen driven Cabs offers rides in premium sedans that can accommodate up to four persons. Their fleet is stationed at the Arrivals gate at Terminal 1 (near Hatti Kaapi).\\n\\nEasy to hire\\n\\nThis service does not require pre-booking. Women passengers can hire the women driven taxis from the parking spot at Terminal 1 Arrivals.\\nFare payment can be through cash or UPI.\\n\\nSafety measures\\n\\nCabs are centrally monitored by the service provider and equipped with GPS trackers, SOS (panic button) and fire extinguishers.\\nAll ‘Pilots’ are fluent in multiple Indian languages and English, and are trained in self-defense techniques.\\n\\nType Of Charges Minimum Fare Fare Hire Charges ₹ 100/- (4km) ₹ 24 per km Waiting Charges FREE (first 05 minutes) ₹ 1 ( per minute) Luggage Charges FREE (first 120 kgs) ₹ 7 (every 20kgs) Night Charges (12am - 6am) - 10% on the above fare\\n\\nMega Cabs is India’s first GPS/GRPS Radio Taxi Service provider. The company owns and operates a fleet of over 2,500 cabs with Toyota Etios and Tata Indigo cars, across the country.\\n\\nhttp://www.megacabs.com/\\n\\nfeedback@megacabs.com\\n\\nMerucabs uses high-end technology to geographically track its vehicles and give customers real time response on cab availability.\\n\\nhttps://www.meru.in/\\n\\nfeedbackblr@merucabs.com\\n\\nMERU to 57575\\n\\nKarnataka State Tourism Development Corporation (KSTDC) is the largest Tour Operator in Karnataka. All the taxis are fitted with state of the art technology like GPS, GPRS & Printing machines with easy tracking, quick & transparent billing.\\n\\nhttps://www.kstdc.co/\\n\\ntaxis@karnatakaholidays.net\\n\\n+91-8044664466\\n\\nType Of Charges Minimum Fare Fare Hire Charges ₹ 75/- (4km) ₹ 18 per km Waiting Charges FREE (first 05 minutes) ₹ 1 ( per minute) Luggage Charges FREE (first 120 kgs) ₹ 7 (every 20kgs) Night Charges (12am - 6am) - 10% on the above fare\\n\\nMega Cabs is India’s first GPS/GRPS Radio Taxi Service provider. The company owns and operates a fleet of over 2,500 cabs with Toyota Etios and Tata Indigo cars, across the country.\\n\\nhttp://www.megacabs.com/\\n\\nfeedback@megacabs.com\\n\\nMerucabs uses high-end technology to geographically track its vehicles and give customers real time response on cab availability.\\n\\nhttps://www.meru.in/\\n\\nfeedbackblr@merucabs.com\\n\\nMERU to 57575\\n\\nKarnataka State Tourism Development Corporation (KSTDC) is the largest Tour Operator in Karnataka. All the taxis are fitted with state of the art technology like GPS, GPRS & Printing machines with easy tracking, quick & transparent billing.\\n\\nhttps://www.kstdc.co/\\n\\ntaxis@karnatakaholidays.net\\n\\n+91-8044664466\\n\\nApp-based taxi\\n\\nAvail the app-based taxi services available at designated zones.\\n\\nOla\\n\\nUber\\n\\nOla India's most popular cab service provider offers a wide variety of cars to choose - ranging from Hatchbacks, Sedans, SUV’s to Luxury Cars like Mercedes, there is definitely a cab to suit every pocket. With features like AC, free Wi-Fi, in-cab entertainment consoles (Ola Play), rentals by the hour and cabs for outstation travels, you can be assured of the best ride experience, always!\\n\\nWhile additional features like the SOS button ensure your safety, payment options like Ola Money make sure you have a hassle-free and cashless ride home. You can now book an Ola from any device, including cell phones and laptops.\\n\\nSo if you have just landed at Kempegowda International Airport Bengaluru, book yourself an Ola while claiming your baggage, then take a short 2 min walk to Ola’s dedicated pickup zone located near P2 parking just after BMTC bus stand.\\n\\nhttps://www.olacabs.com\\n\\nsupport@olacabs.com\\n\\n+91-8033553355\\n\\nUber seamlessly connects riders to drivers in over 500 cities across the world. Uber is now present at Kempegowda International Airport, Bengaluru. Whether it’s an early morning or late night flight, you can count on us for a ride to get you to your destination. With a choice of cars from sedans to SUVs, there’s always a car to suit your needs. Payment is easy - you can pay via credit or debit card, prepaid wallets and even cash.\\n\\nOpen your Uber app while claiming your baggage, enter your destination and proceed to meet your driver at the Uber Zone behind Cafe Coffee Day. When your ride arrives you’ll see your driver’s contact information and vehicle details in the app, so you know you’re getting in the right car. Once you complete your journey rate your driver.\\n\\nhttps://www.uber.com\\n\\nhelp@uber.com\\n\\n+91-8030459575\\n\\nParking - T1\\n\\nDay and long-term parking facilities are available for passengers with self-driven vehicles.\\n\\nTwo Wheeler Parking\\n\\nDuration Fare 0 to 1 hours 40 Every additional 1 hour 20 One day 250 Every additional day 150 Loss of ticket 250\\n\\nCar Parking\\n\\nDuration Fare 0 to 30 minutes 100 Every additional 1 hour 50 One day 600 Every additional day 350 Loss of ticket 600\\n\\nP4 Parking for Reduced Mobility\\n\\nDuration Fare 0 to 30 minutes 100 Every additional 1 hour 50 One day 600 Every additional day 350 Loss of ticket 600\\n\\nP4 Electric Car Parking\\n\\nLocation Fare P4 (EV charging facility is on chargeable basis) 20% Discount on original fare\\n\\nP4 Bus Parking - Below 16 seater\\n\\nDuration Fare 0 to 1 hours 200 Additional hours 200 Loss of ticket 1000\\n\\nP4 Bus Parking - Above 16 seater\\n\\nDuration Fare 0 to 1 hours 500 Additional hours 500 Loss of ticket 1000\\n\\nParking - T2\\n\\nParking is available at the Arrivals level of T2. Follow directional signages and instructions of our traffic wardens.\\n\\nTwo Wheeler Parking\\n\\nDuration Fare 0 to 1 hours 40 Every additional 1 hour 20 One day 250 Every additional day 150 Loss of ticket 250\\n\\nCar Parking\\n\\nDuration Fare 0 to 30 minutes 100 Every additional 1 hour 50 One day 600 Every additional day 350 Loss of ticket 600\\n\\nP2 Parking for Reduced Mobility\\n\\nDuration Fare 0 to 30 minutes 100 Every additional 1 hour 50 One day 600 Every additional day 350 Loss of ticket 600\\n\\nP2 Electric Car Parking\\n\\nLocation Fare P2 (EV charging facility is on chargeable basis) 20% Discount on original fare\\n\\nFor Persons with Reduced Mobility:\\n\\nA dedicated drop off and pick up point is provided in the lane closest to the terminal for people with reduced mobility and those requiring wheelchair facility.\\n\\nParking charges are inclusive of taxes\\n\\nPassengers can avail shuttle service between the railway station and airport. This service is synchronised with the train timings.\\n\\nBENGALURU CITY TO AIRPORT\\n\\nTrain No Departure Halt Arrival 06531 KSR-Majestic 4:55AM Cantonment Byappanahalli Airport 6:10 AM 06534 Yelahanka 7:45 AM No Stops Airport 8:03 AM 06387 KSR-Majestic 8:35 AM Cantonment Yelahanka Airport 9:48 AM 06536 Cantonment 12:20 PM Byappanahalli Yelahanka Airport 1:20 PM 06538 Cantonment 4:00 PM Byappanahalli Yelahanka Airport 4:55 PM 16549 KSR-Majestic 6:10 PM Malleshwaram Yeshwanthpur Airport 7:07 PM 06540 Yelahanka 7:15 PM No Stops Airport 7:35 PM\\n\\nAIRPORT TO BENGALURU CITY\\n\\nTrain No Departure Halt Arrival 06533 Airport 6:39 AM No Stops Yelahanka 7:00 AM 16550 Airport 8:30 AM Devanahalli Yelahanka KSR-Majestic 9:45 AM 06535 Airport 8:58 AM Yelahanka Byappanahalli Cantonment 10:10 AM 06537 Airport 2:08 PM Yelahanka Byappanahalli Cantonment 3:15 PM 06388 Airport 4:08 PM Yelahanka Byappanahalli Cantonment 5:40 PM 06539 Airport 6:00 PM No Stops Yelahanka 6:20 PM 06532 Airport 7:59 PM Byappanahalli Cantonment KSR-Majestic 9:20 PM\\n\\nNote:\\xa0This service is operated by the Indian Railways. Passengers are requested to check\\n\\nhttps://enquiry.indianrail.gov.in/mntes/\\xa0\\xa0for the updated schedule.\\n\\nFAQs\\n\\nDisclaimer\\n\\nContact Us\\n\\nTerms of Use\\n\\nPrivacy Policy\\n\\nCopyright Notice\\n\\nFAQs\\n\\nDisclaimer\\n\\nContact Us\\n\\nTerms of Use\\n\\nPrivacy Policy\\n\\nCopyright Notice\\n\\nDownload BLR Pulse App\\n\\n© 2023 BIAL. All Rights Reserved.\\n\\nBack to top\\n\\nHOME\\n\\nFLIGHTS\\n\\nFOOD\\n\\nTRANSPORT\\n\\nPROFILE\\n\\nWe use cookies to enhance your browsing experience on this website. If you continue to use the site you agree to our use of cookies. Find out more in our Privacy Policy here\", metadata={'source': 'https://www.bengaluruairport.com/travellers/transport-parking', 'title': 'Bangalore Airport Taxi | Airport Transportation | BLR Airport', 'description': 'Discover the airport transportation services available from Bangalore International Airport to the city center such as buses, car rentals, airport taxis, and trains.\\n', 'language': 'en'})]"
      ]
     },
     "execution_count": 39,
     "metadata": {},
     "output_type": "execute_result"
    }
   ],
   "source": [
    "data"
   ]
  },
  {
   "cell_type": "code",
   "execution_count": null,
   "id": "6be962dd",
   "metadata": {},
   "outputs": [],
   "source": []
  }
 ],
 "metadata": {
  "kernelspec": {
   "display_name": "Python 3 (ipykernel)",
   "language": "python",
   "name": "python3"
  },
  "language_info": {
   "codemirror_mode": {
    "name": "ipython",
    "version": 3
   },
   "file_extension": ".py",
   "mimetype": "text/x-python",
   "name": "python",
   "nbconvert_exporter": "python",
   "pygments_lexer": "ipython3",
   "version": "3.11.5"
  }
 },
 "nbformat": 4,
 "nbformat_minor": 5
}
